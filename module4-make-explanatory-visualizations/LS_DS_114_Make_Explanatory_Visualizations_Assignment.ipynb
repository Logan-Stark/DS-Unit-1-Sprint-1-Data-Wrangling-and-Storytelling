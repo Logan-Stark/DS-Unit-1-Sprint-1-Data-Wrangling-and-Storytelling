{
  "nbformat": 4,
  "nbformat_minor": 0,
  "metadata": {
    "colab": {
      "name": "LS_DS_114_Make_Explanatory_Visualizations_Assignment.ipynb",
      "provenance": [],
      "collapsed_sections": [],
      "include_colab_link": true
    },
    "language_info": {
      "codemirror_mode": {
        "name": "ipython",
        "version": 3
      },
      "file_extension": ".py",
      "mimetype": "text/x-python",
      "name": "python",
      "nbconvert_exporter": "python",
      "pygments_lexer": "ipython3",
      "version": "3.7.1"
    },
    "kernelspec": {
      "display_name": "Python 3",
      "language": "python",
      "name": "python3"
    }
  },
  "cells": [
    {
      "cell_type": "markdown",
      "metadata": {
        "id": "view-in-github",
        "colab_type": "text"
      },
      "source": [
        "<a href=\"https://colab.research.google.com/github/Logan-Stark/DS-Unit-1-Sprint-1-Data-Wrangling-and-Storytelling/blob/master/module4-make-explanatory-visualizations/LS_DS_114_Make_Explanatory_Visualizations_Assignment.ipynb\" target=\"_parent\"><img src=\"https://colab.research.google.com/assets/colab-badge.svg\" alt=\"Open In Colab\"/></a>"
      ]
    },
    {
      "cell_type": "markdown",
      "metadata": {
        "colab_type": "text",
        "id": "NMEswXWh9mqw"
      },
      "source": [
        "Lambda School Data Science\n",
        "\n",
        "*Unit 1, Sprint 1, Module 4*\n",
        "\n",
        "---\n",
        "\n",
        "# ASSIGNMENT\n",
        "\n",
        "### 1) Replicate the lesson code. I recommend that you [do not copy-paste](https://docs.google.com/document/d/1ubOw9B3Hfip27hF2ZFnW3a3z9xAgrUDRReOEo-FHCVs/edit).\n",
        "\n",
        "Get caught up to where we got our example in class and then try and take things further. How close to \"pixel perfect\" can you make the lecture graph?\n",
        "\n",
        "Once you have something that you're proud of, share your graph in the cohort channel and move on to the second exercise.\n",
        "\n",
        "### 2) Reproduce another example from [FiveThityEight's shared data repository](https://data.fivethirtyeight.com/).\n",
        "\n",
        "**WARNING**: There are a lot of very custom graphs and tables at the above link. I **highly** recommend not trying to reproduce any that look like a table of values or something really different from the graph types that we are already familiar with. Search through the posts until you find a graph type that you are more or less familiar with: histogram, bar chart, stacked bar chart, line chart, [seaborn relplot](https://seaborn.pydata.org/generated/seaborn.relplot.html), etc. Recreating some of the graphics that 538 uses would be a lot easier in Adobe photoshop/illustrator than with matplotlib. \n",
        "\n",
        "- If you put in some time to find a graph that looks \"easy\" to replicate you'll probably find that it's not as easy as you thought. \n",
        "\n",
        "- If you start with a graph that looks hard to replicate you'll probably run up against a brick wall and be disappointed with your afternoon.\n",
        "\n",
        "\n",
        "\n",
        "\n",
        "\n",
        "\n",
        "\n",
        "\n",
        "\n",
        "\n"
      ]
    },
    {
      "cell_type": "markdown",
      "metadata": {
        "id": "xecor1cEXVUO",
        "colab_type": "text"
      },
      "source": [
        "## Part 1"
      ]
    },
    {
      "cell_type": "code",
      "metadata": {
        "id": "7SY1ZHawyZvz",
        "colab_type": "code",
        "outputId": "66e523d8-a3fe-4bca-a1d7-806ecc2114b2",
        "colab": {
          "base_uri": "https://localhost:8080/",
          "height": 72
        }
      },
      "source": [
        "# Your Work Here\n",
        "import pandas as pd\n",
        "import numpy as np\n",
        "import matplotlib.pyplot as plt\n",
        "import seaborn as sns"
      ],
      "execution_count": 2,
      "outputs": [
        {
          "output_type": "stream",
          "text": [
            "/usr/local/lib/python3.6/dist-packages/statsmodels/tools/_testing.py:19: FutureWarning: pandas.util.testing is deprecated. Use the functions in the public API at pandas.testing instead.\n",
            "  import pandas.util.testing as tm\n"
          ],
          "name": "stderr"
        }
      ]
    },
    {
      "cell_type": "code",
      "metadata": {
        "id": "t06iDe5aXSDr",
        "colab_type": "code",
        "outputId": "685ccf94-594c-4e14-981e-c2fc7ad82645",
        "colab": {
          "base_uri": "https://localhost:8080/",
          "height": 355
        }
      },
      "source": [
        "from IPython.display import display, Image\n",
        "\n",
        "url = 'https://fivethirtyeight.com/wp-content/uploads/2017/09/mehtahickey-inconvenient-0830-1.png'\n",
        "example = Image(url=url, width=400)\n",
        "\n",
        "display(example)"
      ],
      "execution_count": 3,
      "outputs": [
        {
          "output_type": "display_data",
          "data": {
            "text/html": [
              "<img src=\"https://fivethirtyeight.com/wp-content/uploads/2017/09/mehtahickey-inconvenient-0830-1.png\" width=\"400\"/>"
            ],
            "text/plain": [
              "<IPython.core.display.Image object>"
            ]
          },
          "metadata": {
            "tags": []
          }
        }
      ]
    },
    {
      "cell_type": "code",
      "metadata": {
        "id": "vTzD8-vNXSBB",
        "colab_type": "code",
        "outputId": "aa0b521c-9554-4335-cb5d-cdf48f494c47",
        "colab": {
          "base_uri": "https://localhost:8080/",
          "height": 267
        }
      },
      "source": [
        "%matplotlib inline\n",
        "import matplotlib.pyplot as plt\n",
        "import numpy as np\n",
        "import pandas as pd\n",
        "\n",
        "\n",
        "#plt.style.use('fivethirtyeight')\n",
        "\n",
        "fake = pd.Series([38, 3, 2, 1, 2, 4, 6, 5, 5, 33], \n",
        "                 index=range(1,11))\n",
        "\n",
        "fake.plot.bar(color='C1', width=0.9);"
      ],
      "execution_count": 4,
      "outputs": [
        {
          "output_type": "display_data",
          "data": {
            "image/png": "[encoded data removed]",
            "text/plain": [
              "<Figure size 432x288 with 1 Axes>"
            ]
          },
          "metadata": {
            "tags": [],
            "needs_background": "light"
          }
        }
      ]
    },
    {
      "cell_type": "code",
      "metadata": {
        "id": "zyjNNZ5uXR-Z",
        "colab_type": "code",
        "outputId": "b09d3ef3-3bc2-4d07-e687-507e08510728",
        "colab": {
          "base_uri": "https://localhost:8080/",
          "height": 270
        }
      },
      "source": [
        "fake2 = pd.Series(\n",
        "    [1, 1, 1, 1, 1, 1, 1, 1, 1, 1, 1, 1, 1, 1, 1, 1, 1, 1, 1, 1, 1, 1, 1, 1,\n",
        "     2, 2, 2, \n",
        "     3, 3, 3,\n",
        "     4, 4,\n",
        "     5, 5, 5,\n",
        "     6, 6, 6, 6,\n",
        "     7, 7, 7, 7, 7,\n",
        "     8, 8, 8, 8,\n",
        "     9, 9, 9, 9, \n",
        "     10, 10, 10, 10, 10, 10, 10, 10, 10, 10, 10, 10, 10, 10, 10, 10, 10, 10])\n",
        "\n",
        "fake2.value_counts().sort_index().plot.bar(color='C1', width=0.9);"
      ],
      "execution_count": 5,
      "outputs": [
        {
          "output_type": "display_data",
          "data": {
            "image/png": "[encoded data removed]",
            "text/plain": [
              "<Figure size 432x288 with 1 Axes>"
            ]
          },
          "metadata": {
            "tags": [],
            "needs_background": "light"
          }
        }
      ]
    },
    {
      "cell_type": "code",
      "metadata": {
        "id": "GC-VHEWRXR7u",
        "colab_type": "code",
        "outputId": "69f9d518-194e-42c2-9a4b-a519dd5166dd",
        "colab": {
          "base_uri": "https://localhost:8080/",
          "height": 344
        }
      },
      "source": [
        "plt.style.use('fivethirtyeight')\n",
        "\n",
        "fig, ax = plt.subplots()\n",
        "\n",
        "fig.patch.set_facecolor('white')\n",
        "# put bars on graph\n",
        "ax.bar(x=[1,2,3,4,5,6,7,8,9,10], height=fake, color='#ED713A', width=.9)\n",
        "\n",
        "ax.set_facecolor('white')\n",
        "# set x ticks\n",
        "\n",
        "# y axis tick marks and labels\n",
        "ax.set_yticks(range(0,50,10))\n",
        "ax.set_yticklabels([0, 10,20,30,'40%'], fontsize=8,  color='#5E5E5E')\n",
        "# x ticks labeling and color\n",
        "ax.set_xticklabels((range(1,11,1)), fontsize=8,  color='#5E5E5E')\n",
        "# x axis label\n",
        "ax.set_xlabel('Rating', fontsize=11, fontweight='bold',x=.485, y=5,)\n",
        "\n",
        "# y axis label\n",
        "ax.set_ylabel('Percent of total votes', fontsize=10, fontweight='bold')\n",
        "# sett graph title\n",
        "ax.set_title(\"'An Inconvenient Sequel: Truth To Power' is divisive\", x=.32, y=1.1,fontsize=13, fontweight='bold')\n",
        "ax.text(s='IMBD ratings for the film as of Aug. 29', x=-1.87, y=42, fontsize=11.5)\n",
        "ax.text(s='______________________________________________________________________________________________', x=-2, y=-5., fontsize=10,  color='#5E5E5E')\n",
        "ax.text(s=\"FiveThirtyEight\", x=-2, y=-7,fontsize=7,color='#5E5E5E')\n",
        "ax.text(s=\"SOURCE:IMDB\", x=10, y=-7,fontsize=7,style='oblique',color='#5E5E5E')\n",
        "# remove spines\n",
        "\n",
        "ax.spines['left'].set_visible(False)\n",
        "ax.spines['right'].set_visible(False)\n",
        "ax.spines['top'].set_visible(False)\n",
        "ax.spines['bottom'].set_visible(False)\n",
        "plt.show()"
      ],
      "execution_count": 6,
      "outputs": [
        {
          "output_type": "display_data",
          "data": {
            "image/png": "[encoded data removed]",
            "text/plain": [
              "<Figure size 432x288 with 1 Axes>"
            ]
          },
          "metadata": {
            "tags": []
          }
        }
      ]
    },
    {
      "cell_type": "code",
      "metadata": {
        "id": "yF93WQHZXR5G",
        "colab_type": "code",
        "outputId": "75725a2a-a936-47f9-e07c-f471ce45600c",
        "colab": {
          "base_uri": "https://localhost:8080/",
          "height": 355
        }
      },
      "source": [
        "display(example)"
      ],
      "execution_count": 7,
      "outputs": [
        {
          "output_type": "display_data",
          "data": {
            "text/html": [
              "<img src=\"https://fivethirtyeight.com/wp-content/uploads/2017/09/mehtahickey-inconvenient-0830-1.png\" width=\"400\"/>"
            ],
            "text/plain": [
              "<IPython.core.display.Image object>"
            ]
          },
          "metadata": {
            "tags": []
          }
        }
      ]
    },
    {
      "cell_type": "code",
      "metadata": {
        "id": "EZaV6vdSXR2S",
        "colab_type": "code",
        "outputId": "d882db2d-0b22-4ddf-81b0-3b2b6639b1fb",
        "colab": {
          "base_uri": "https://localhost:8080/",
          "height": 231
        }
      },
      "source": [
        "df= pd.read_csv( 'https://raw.githubusercontent.com/fivethirtyeight/WNBA-stats/master/wnba-team-elo-ratings.csv')\n",
        "df.tail()"
      ],
      "execution_count": 8,
      "outputs": [
        {
          "output_type": "execute_result",
          "data": {
            "text/html": [
              "<div>\n",
              "<style scoped>\n",
              "    .dataframe tbody tr th:only-of-type {\n",
              "        vertical-align: middle;\n",
              "    }\n",
              "\n",
              "    .dataframe tbody tr th {\n",
              "        vertical-align: top;\n",
              "    }\n",
              "\n",
              "    .dataframe thead th {\n",
              "        text-align: right;\n",
              "    }\n",
              "</style>\n",
              "<table border=\"1\" class=\"dataframe\">\n",
              "  <thead>\n",
              "    <tr style=\"text-align: right;\">\n",
              "      <th></th>\n",
              "      <th>season</th>\n",
              "      <th>date</th>\n",
              "      <th>team1</th>\n",
              "      <th>team2</th>\n",
              "      <th>name1</th>\n",
              "      <th>name2</th>\n",
              "      <th>neutral</th>\n",
              "      <th>playoff</th>\n",
              "      <th>score1</th>\n",
              "      <th>score2</th>\n",
              "      <th>elo1_pre</th>\n",
              "      <th>elo2_pre</th>\n",
              "      <th>elo1_post</th>\n",
              "      <th>elo2_post</th>\n",
              "      <th>prob1</th>\n",
              "      <th>is_home1</th>\n",
              "    </tr>\n",
              "  </thead>\n",
              "  <tbody>\n",
              "    <tr>\n",
              "      <th>10483</th>\n",
              "      <td>1997</td>\n",
              "      <td>6/21/1997</td>\n",
              "      <td>SAC</td>\n",
              "      <td>LVA</td>\n",
              "      <td>Sacramento Monarchs</td>\n",
              "      <td>Utah Starzz</td>\n",
              "      <td>0</td>\n",
              "      <td>0</td>\n",
              "      <td>73</td>\n",
              "      <td>61</td>\n",
              "      <td>1500</td>\n",
              "      <td>1500</td>\n",
              "      <td>1521</td>\n",
              "      <td>1479</td>\n",
              "      <td>0.387</td>\n",
              "      <td>0</td>\n",
              "    </tr>\n",
              "    <tr>\n",
              "      <th>10484</th>\n",
              "      <td>1997</td>\n",
              "      <td>6/21/1997</td>\n",
              "      <td>NYL</td>\n",
              "      <td>LAS</td>\n",
              "      <td>New York Liberty</td>\n",
              "      <td>Los Angeles Sparks</td>\n",
              "      <td>0</td>\n",
              "      <td>0</td>\n",
              "      <td>67</td>\n",
              "      <td>57</td>\n",
              "      <td>1500</td>\n",
              "      <td>1500</td>\n",
              "      <td>1519</td>\n",
              "      <td>1481</td>\n",
              "      <td>0.387</td>\n",
              "      <td>0</td>\n",
              "    </tr>\n",
              "    <tr>\n",
              "      <th>10485</th>\n",
              "      <td>1997</td>\n",
              "      <td>6/21/1997</td>\n",
              "      <td>LAS</td>\n",
              "      <td>NYL</td>\n",
              "      <td>Los Angeles Sparks</td>\n",
              "      <td>New York Liberty</td>\n",
              "      <td>0</td>\n",
              "      <td>0</td>\n",
              "      <td>57</td>\n",
              "      <td>67</td>\n",
              "      <td>1500</td>\n",
              "      <td>1500</td>\n",
              "      <td>1481</td>\n",
              "      <td>1519</td>\n",
              "      <td>0.613</td>\n",
              "      <td>1</td>\n",
              "    </tr>\n",
              "    <tr>\n",
              "      <th>10486</th>\n",
              "      <td>1997</td>\n",
              "      <td>6/21/1997</td>\n",
              "      <td>LVA</td>\n",
              "      <td>SAC</td>\n",
              "      <td>Utah Starzz</td>\n",
              "      <td>Sacramento Monarchs</td>\n",
              "      <td>0</td>\n",
              "      <td>0</td>\n",
              "      <td>61</td>\n",
              "      <td>73</td>\n",
              "      <td>1500</td>\n",
              "      <td>1500</td>\n",
              "      <td>1479</td>\n",
              "      <td>1521</td>\n",
              "      <td>0.613</td>\n",
              "      <td>1</td>\n",
              "    </tr>\n",
              "    <tr>\n",
              "      <th>10487</th>\n",
              "      <td>1997</td>\n",
              "      <td>6/21/1997</td>\n",
              "      <td>CLE</td>\n",
              "      <td>HOU</td>\n",
              "      <td>Cleveland Rockers</td>\n",
              "      <td>Houston Comets</td>\n",
              "      <td>0</td>\n",
              "      <td>0</td>\n",
              "      <td>56</td>\n",
              "      <td>76</td>\n",
              "      <td>1500</td>\n",
              "      <td>1500</td>\n",
              "      <td>1470</td>\n",
              "      <td>1530</td>\n",
              "      <td>0.613</td>\n",
              "      <td>1</td>\n",
              "    </tr>\n",
              "  </tbody>\n",
              "</table>\n",
              "</div>"
            ],
            "text/plain": [
              "       season       date team1 team2  ... elo1_post elo2_post  prob1  is_home1\n",
              "10483    1997  6/21/1997   SAC   LVA  ...      1521      1479  0.387         0\n",
              "10484    1997  6/21/1997   NYL   LAS  ...      1519      1481  0.387         0\n",
              "10485    1997  6/21/1997   LAS   NYL  ...      1481      1519  0.613         1\n",
              "10486    1997  6/21/1997   LVA   SAC  ...      1479      1521  0.613         1\n",
              "10487    1997  6/21/1997   CLE   HOU  ...      1470      1530  0.613         1\n",
              "\n",
              "[5 rows x 16 columns]"
            ]
          },
          "metadata": {
            "tags": []
          },
          "execution_count": 8
        }
      ]
    },
    {
      "cell_type": "code",
      "metadata": {
        "id": "3xjygMCrXRzm",
        "colab_type": "code",
        "outputId": "f65f226a-88e4-4aa1-b687-2e6052e2055f",
        "colab": {
          "base_uri": "https://localhost:8080/",
          "height": 34
        }
      },
      "source": [
        "df.shape"
      ],
      "execution_count": 9,
      "outputs": [
        {
          "output_type": "execute_result",
          "data": {
            "text/plain": [
              "(10488, 16)"
            ]
          },
          "metadata": {
            "tags": []
          },
          "execution_count": 9
        }
      ]
    },
    {
      "cell_type": "code",
      "metadata": {
        "id": "15Hf32aOXRw5",
        "colab_type": "code",
        "colab": {}
      },
      "source": [
        "df['team1'].value_counts()\n",
        "team1_Hou = ['HOU']"
      ],
      "execution_count": 0,
      "outputs": []
    },
    {
      "cell_type": "code",
      "metadata": {
        "id": "odPOK-kwMHL1",
        "colab_type": "code",
        "colab": {}
      },
      "source": [
        "seasons= ['2000', '1997', '1998', '1999' ]"
      ],
      "execution_count": 0,
      "outputs": []
    },
    {
      "cell_type": "code",
      "metadata": {
        "id": "uhbDTiiQKIYO",
        "colab_type": "code",
        "colab": {}
      },
      "source": [
        "df= df[df.team1.isin(team1_Hou)]"
      ],
      "execution_count": 0,
      "outputs": []
    },
    {
      "cell_type": "code",
      "metadata": {
        "id": "dNgqfIdeMBdm",
        "colab_type": "code",
        "colab": {}
      },
      "source": [
        "df= df[df.season.isin(seasons)]"
      ],
      "execution_count": 0,
      "outputs": []
    },
    {
      "cell_type": "code",
      "metadata": {
        "id": "SZaeoq4CLMo1",
        "colab_type": "code",
        "outputId": "763645b4-fb20-4a20-f39f-c32f00bf2492",
        "colab": {
          "base_uri": "https://localhost:8080/",
          "height": 197
        }
      },
      "source": [
        "df.head()"
      ],
      "execution_count": 14,
      "outputs": [
        {
          "output_type": "execute_result",
          "data": {
            "text/html": [
              "<div>\n",
              "<style scoped>\n",
              "    .dataframe tbody tr th:only-of-type {\n",
              "        vertical-align: middle;\n",
              "    }\n",
              "\n",
              "    .dataframe tbody tr th {\n",
              "        vertical-align: top;\n",
              "    }\n",
              "\n",
              "    .dataframe thead th {\n",
              "        text-align: right;\n",
              "    }\n",
              "</style>\n",
              "<table border=\"1\" class=\"dataframe\">\n",
              "  <thead>\n",
              "    <tr style=\"text-align: right;\">\n",
              "      <th></th>\n",
              "      <th>season</th>\n",
              "      <th>date</th>\n",
              "      <th>team1</th>\n",
              "      <th>team2</th>\n",
              "      <th>name1</th>\n",
              "      <th>name2</th>\n",
              "      <th>neutral</th>\n",
              "      <th>playoff</th>\n",
              "      <th>score1</th>\n",
              "      <th>score2</th>\n",
              "      <th>elo1_pre</th>\n",
              "      <th>elo2_pre</th>\n",
              "      <th>elo1_post</th>\n",
              "      <th>elo2_post</th>\n",
              "      <th>prob1</th>\n",
              "      <th>is_home1</th>\n",
              "    </tr>\n",
              "  </thead>\n",
              "  <tbody>\n",
              "    <tr>\n",
              "      <th>8992</th>\n",
              "      <td>2000</td>\n",
              "      <td>8/26/2000</td>\n",
              "      <td>HOU</td>\n",
              "      <td>NYL</td>\n",
              "      <td>Houston Comets</td>\n",
              "      <td>New York Liberty</td>\n",
              "      <td>0</td>\n",
              "      <td>1</td>\n",
              "      <td>79</td>\n",
              "      <td>73</td>\n",
              "      <td>1741</td>\n",
              "      <td>1523</td>\n",
              "      <td>1743</td>\n",
              "      <td>1522</td>\n",
              "      <td>0.895</td>\n",
              "      <td>1</td>\n",
              "    </tr>\n",
              "    <tr>\n",
              "      <th>8994</th>\n",
              "      <td>2000</td>\n",
              "      <td>8/24/2000</td>\n",
              "      <td>HOU</td>\n",
              "      <td>NYL</td>\n",
              "      <td>Houston Comets</td>\n",
              "      <td>New York Liberty</td>\n",
              "      <td>0</td>\n",
              "      <td>1</td>\n",
              "      <td>59</td>\n",
              "      <td>52</td>\n",
              "      <td>1735</td>\n",
              "      <td>1529</td>\n",
              "      <td>1741</td>\n",
              "      <td>1523</td>\n",
              "      <td>0.712</td>\n",
              "      <td>0</td>\n",
              "    </tr>\n",
              "    <tr>\n",
              "      <th>8998</th>\n",
              "      <td>2000</td>\n",
              "      <td>8/20/2000</td>\n",
              "      <td>HOU</td>\n",
              "      <td>LAS</td>\n",
              "      <td>Houston Comets</td>\n",
              "      <td>Los Angeles Sparks</td>\n",
              "      <td>0</td>\n",
              "      <td>1</td>\n",
              "      <td>74</td>\n",
              "      <td>69</td>\n",
              "      <td>1724</td>\n",
              "      <td>1673</td>\n",
              "      <td>1735</td>\n",
              "      <td>1661</td>\n",
              "      <td>0.449</td>\n",
              "      <td>0</td>\n",
              "    </tr>\n",
              "    <tr>\n",
              "      <th>9002</th>\n",
              "      <td>2000</td>\n",
              "      <td>8/17/2000</td>\n",
              "      <td>HOU</td>\n",
              "      <td>LAS</td>\n",
              "      <td>Houston Comets</td>\n",
              "      <td>Los Angeles Sparks</td>\n",
              "      <td>0</td>\n",
              "      <td>1</td>\n",
              "      <td>77</td>\n",
              "      <td>56</td>\n",
              "      <td>1710</td>\n",
              "      <td>1686</td>\n",
              "      <td>1724</td>\n",
              "      <td>1673</td>\n",
              "      <td>0.678</td>\n",
              "      <td>1</td>\n",
              "    </tr>\n",
              "    <tr>\n",
              "      <th>9008</th>\n",
              "      <td>2000</td>\n",
              "      <td>8/14/2000</td>\n",
              "      <td>HOU</td>\n",
              "      <td>SAC</td>\n",
              "      <td>Houston Comets</td>\n",
              "      <td>Sacramento Monarchs</td>\n",
              "      <td>0</td>\n",
              "      <td>1</td>\n",
              "      <td>75</td>\n",
              "      <td>70</td>\n",
              "      <td>1708</td>\n",
              "      <td>1548</td>\n",
              "      <td>1710</td>\n",
              "      <td>1546</td>\n",
              "      <td>0.848</td>\n",
              "      <td>1</td>\n",
              "    </tr>\n",
              "  </tbody>\n",
              "</table>\n",
              "</div>"
            ],
            "text/plain": [
              "      season       date team1 team2  ... elo1_post elo2_post  prob1  is_home1\n",
              "8992    2000  8/26/2000   HOU   NYL  ...      1743      1522  0.895         1\n",
              "8994    2000  8/24/2000   HOU   NYL  ...      1741      1523  0.712         0\n",
              "8998    2000  8/20/2000   HOU   LAS  ...      1735      1661  0.449         0\n",
              "9002    2000  8/17/2000   HOU   LAS  ...      1724      1673  0.678         1\n",
              "9008    2000  8/14/2000   HOU   SAC  ...      1710      1546  0.848         1\n",
              "\n",
              "[5 rows x 16 columns]"
            ]
          },
          "metadata": {
            "tags": []
          },
          "execution_count": 14
        }
      ]
    },
    {
      "cell_type": "code",
      "metadata": {
        "id": "nZkgwGfwOxun",
        "colab_type": "code",
        "colab": {}
      },
      "source": [
        "df=df.reset_index(drop=True)"
      ],
      "execution_count": 0,
      "outputs": []
    },
    {
      "cell_type": "code",
      "metadata": {
        "id": "XJf0W7KpXRkj",
        "colab_type": "code",
        "colab": {}
      },
      "source": [
        "elos= pd.Series(df['elo1_post'])"
      ],
      "execution_count": 0,
      "outputs": []
    },
    {
      "cell_type": "code",
      "metadata": {
        "id": "WWfbzHdSnzFI",
        "colab_type": "code",
        "colab": {}
      },
      "source": [
        "ads=list(range(0, 141))\n"
      ],
      "execution_count": 0,
      "outputs": []
    },
    {
      "cell_type": "code",
      "metadata": {
        "id": "Nfgo7sZcNtEk",
        "colab_type": "code",
        "colab": {}
      },
      "source": [
        "ads.sort(reverse=True)"
      ],
      "execution_count": 0,
      "outputs": []
    },
    {
      "cell_type": "code",
      "metadata": {
        "id": "knD7Z7G0ny9S",
        "colab_type": "code",
        "colab": {}
      },
      "source": [
        "elos=elos.reindex(ads)"
      ],
      "execution_count": 0,
      "outputs": []
    },
    {
      "cell_type": "code",
      "metadata": {
        "id": "Mmr8wHVz0LfN",
        "colab_type": "code",
        "colab": {}
      },
      "source": [
        "elos=elos.reset_index(drop=True)"
      ],
      "execution_count": 0,
      "outputs": []
    },
    {
      "cell_type": "code",
      "metadata": {
        "id": "Wy8ZQcjoU7cv",
        "colab_type": "code",
        "outputId": "425037bf-9f9a-4bc4-f6f3-d59e803087d7",
        "colab": {
          "base_uri": "https://localhost:8080/",
          "height": 123
        }
      },
      "source": [
        "elos.head()"
      ],
      "execution_count": 21,
      "outputs": [
        {
          "output_type": "execute_result",
          "data": {
            "text/plain": [
              "0    1530\n",
              "1    1544\n",
              "2    1535\n",
              "3    1558\n",
              "4    1564\n",
              "Name: elo1_post, dtype: int64"
            ]
          },
          "metadata": {
            "tags": []
          },
          "execution_count": 21
        }
      ]
    },
    {
      "cell_type": "code",
      "metadata": {
        "id": "2vkB2NfOXRui",
        "colab_type": "code",
        "outputId": "eb665a6f-4f6a-4535-8e57-ed1c27d98fc9",
        "colab": {
          "base_uri": "https://localhost:8080/",
          "height": 364
        }
      },
      "source": [
        "#plot our graph\n",
        "plt.style.use('fivethirtyeight')\n",
        "\n",
        "fig, ax = plt.subplots()\n",
        "\n",
        "fig.patch.set_facecolor('#F0F0F0')\n",
        "\n",
        "elos.plot(linewidth=2,color='#F92C1D',)\n",
        "\n",
        "ax.set_facecolor('#F0F0F0')\n",
        "\n",
        "# label x axis\n",
        "ax.set_yticklabels(range(1500,1801,100),fontsize=9, fontname='economica', color='#BBBBBB')\n",
        "ax.set_xticklabels(range(0,141,20),fontsize=9, fontname='economica', color='#BBBBBB')\n",
        "\n",
        "ax.set_xticks(range(0,141,20))\n",
        "ax.set_yticks(range(1500,1801,100))\n",
        "\n",
        "ax.set(xlim=(-7, 150), ylim=(1485,1815))\n",
        "\n",
        "# remove spines\n",
        "ax.spines['left'].set_visible(False)\n",
        "ax.spines['right'].set_visible(False)\n",
        "ax.spines['top'].set_visible(False)\n",
        "ax.spines['bottom'].set_visible(False)\n",
        "\n",
        "# Text and titles\n",
        "ax.set_title(\"How Houston became the best WNBA team ever\", x=.40, y=1.1,fontsize=13, fontweight='bold')\n",
        "ax.text(s='Game-by-game Elo rating for the Houston Comets, 1997-2000', x=-17, y=1830, fontsize=11.65)\n",
        "ax.text(s='___________________________________________________________________________________', x=-20, y=1425., fontsize=10,  color='#5E5E5E')\n",
        "ax.text(s=\"FiveThirtyEight\", x=-20, y=1400,fontsize=7,color='#5E5E5E')\n",
        "ax.text(s=\"SOURCE:BASKETBALL-REFERENCE.COM\", x=97, y=1400,fontsize=7,fontname='economica',color='#5E5E5E')\n",
        "ax.set_xlabel('Game Number', y=1300, fontsize=9, fontweight='bold')\n",
        "\n",
        "plt.show()"
      ],
      "execution_count": 27,
      "outputs": [
        {
          "output_type": "display_data",
          "data": {
            "image/png": "[encoded data removed]",
            "text/plain": [
              "<Figure size 432x288 with 1 Axes>"
            ]
          },
          "metadata": {
            "tags": []
          }
        }
      ]
    },
    {
      "cell_type": "code",
      "metadata": {
        "id": "dKX2xJNRXRpl",
        "colab_type": "code",
        "outputId": "b8d5a83b-859b-4db8-c623-16cea0efec09",
        "colab": {
          "base_uri": "https://localhost:8080/",
          "height": 368
        }
      },
      "source": [
        "from IPython.display import display, Image\n",
        "\n",
        "url = 'https://fivethirtyeight.com/wp-content/uploads/2020/05/Paine-Cynthia-Cooper-0526-1.png?w=575'\n",
        "example2 = Image(url=url, width=400)\n",
        "\n",
        "display(example2)"
      ],
      "execution_count": 23,
      "outputs": [
        {
          "output_type": "display_data",
          "data": {
            "text/html": [
              "<img src=\"https://fivethirtyeight.com/wp-content/uploads/2020/05/Paine-Cynthia-Cooper-0526-1.png?w=575\" width=\"400\"/>"
            ],
            "text/plain": [
              "<IPython.core.display.Image object>"
            ]
          },
          "metadata": {
            "tags": []
          }
        }
      ]
    },
    {
      "cell_type": "markdown",
      "metadata": {
        "id": "ljGeJwIJdO5C",
        "colab_type": "text"
      },
      "source": [
        "## Let me know what you think maggie!\n",
        "- I think after all that hassle it came out pretty dang good"
      ]
    },
    {
      "cell_type": "markdown",
      "metadata": {
        "id": "0wSrBzmJyWaV",
        "colab_type": "text"
      },
      "source": [
        "# STRETCH OPTIONS\n",
        "\n",
        "### 1) Reproduce one of the following using the matplotlib or seaborn libraries:\n",
        "\n",
        "- [thanksgiving-2015](https://fivethirtyeight.com/features/heres-what-your-part-of-america-eats-on-thanksgiving/) \n",
        "- [candy-power-ranking](https://fivethirtyeight.com/features/the-ultimate-halloween-candy-power-ranking/) \n",
        "- or another example of your choice!\n",
        "\n",
        "### 2) Make more charts!\n",
        "\n",
        "Choose a chart you want to make, from [Visual Vocabulary - Vega Edition](http://ft.com/vocabulary).\n",
        "\n",
        "Find the chart in an example gallery of a Python data visualization library:\n",
        "- [Seaborn](http://seaborn.pydata.org/examples/index.html)\n",
        "- [Altair](https://altair-viz.github.io/gallery/index.html)\n",
        "- [Matplotlib](https://matplotlib.org/gallery.html)\n",
        "- [Pandas](https://pandas.pydata.org/pandas-docs/stable/visualization.html)\n",
        "\n",
        "Reproduce the chart. [Optionally, try the \"Ben Franklin Method.\"](https://docs.google.com/document/d/1ubOw9B3Hfip27hF2ZFnW3a3z9xAgrUDRReOEo-FHCVs/edit) If you want, experiment and make changes.\n",
        "\n",
        "Take notes. Consider sharing your work with your cohort!"
      ]
    },
    {
      "cell_type": "code",
      "metadata": {
        "id": "dRJkKftiy5BJ",
        "colab_type": "code",
        "colab": {}
      },
      "source": [
        "# More Work Here"
      ],
      "execution_count": 0,
      "outputs": []
    }
  ]
}